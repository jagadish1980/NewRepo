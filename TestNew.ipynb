{
 "cells": [
  {
   "cell_type": "code",
   "execution_count": null,
   "metadata": {},
   "outputs": [],
   "source": [
    "\"\"\"\n",
    "To try the examples in the browser:\n",
    "1. Type code in the input cell and press\n",
    "   Shift + Enter to execute\n",
    "2. Or copy paste the code, and click on\n",
    "   the \"Run\" button in the toolbar\n",
    "\"\"\"\n",
    "\n",
    "# The standard way to import NumPy:\n",
    "import numpy as np\n",
    "\n",
    "# Create a 2-D array, set every second element in\n",
    "# some rows and find max per row:\n",
    "\n",
    "x = np.arange(15, dtype=np.int64).reshape(3, 5)\n",
    "x[1:, ::2] = -99\n",
    "x\n",
    "# array([[  0,   1,   2,   3,   4],\n",
    "#        [-99,   6, -99,   8, -99],\n",
    "#        [-99,  11, -99,  13, -99]])\n",
    "\n",
    "x.max(axis=1)\n",
    "# array([ 4,  8, 13])\n",
    "\n",
    "# Generate normally distributed random numbers:\n",
    "rng = np.random.default_rng()\n",
    "samples = rng.normal(size=2500)\n",
    "samples\n"
   ]
  }
 ],
 "metadata": {
  "language_info": {
   "name": "python"
  }
 },
 "nbformat": 4,
 "nbformat_minor": 2
}
